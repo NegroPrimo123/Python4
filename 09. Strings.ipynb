{
 "cells": [
  {
   "cell_type": "markdown",
   "metadata": {
    "id": "c2-dcIIB7xzG"
   },
   "source": [
    "# Строки\n",
    "Строки в Python заключаются либо в одинарные, либо в двойные кавычки.\n",
    "\n",
    "`'привет'` — это то же самое, что `\"привет\"` .\n",
    "\n",
    "Вы можете отобразить строковый литерал с помощью функции print():"
   ]
  },
  {
   "cell_type": "code",
   "execution_count": null,
   "metadata": {
    "colab": {
     "base_uri": "https://localhost:8080/"
    },
    "executionInfo": {
     "elapsed": 433,
     "status": "ok",
     "timestamp": 1668431390218,
     "user": {
      "displayName": "Наталья Пояркова",
      "userId": "05997905871093046879"
     },
     "user_tz": -180
    },
    "id": "ESqkABz59p3v",
    "outputId": "a74a08d4-8f9c-47bd-e966-dbe76f9df3a5"
   },
   "outputs": [
    {
     "name": "stdout",
     "output_type": "stream",
     "text": [
      "Привет\n",
      "Привет\n"
     ]
    }
   ],
   "source": [
    "print(\"Привет\")\n",
    "print('Привет')"
   ]
  },
  {
   "cell_type": "markdown",
   "metadata": {
    "id": "jQXTBzftChxg"
   },
   "source": [
    "## Присвоить переменной строку \n",
    "Присвоение строки переменной выполняется с именем переменной, за которым следует знак равенства и строка:"
   ]
  },
  {
   "cell_type": "code",
   "execution_count": null,
   "metadata": {
    "colab": {
     "base_uri": "https://localhost:8080/"
    },
    "executionInfo": {
     "elapsed": 6,
     "status": "ok",
     "timestamp": 1668431390500,
     "user": {
      "displayName": "Наталья Пояркова",
      "userId": "05997905871093046879"
     },
     "user_tz": -180
    },
    "id": "aikbkK9LCoAf",
    "outputId": "2c6d4150-4a20-4811-df35-cead0c44d1af"
   },
   "outputs": [
    {
     "name": "stdout",
     "output_type": "stream",
     "text": [
      "Привет\n"
     ]
    }
   ],
   "source": [
    "a = \"Привет\"\n",
    "print(a)"
   ]
  },
  {
   "cell_type": "code",
   "execution_count": null,
   "metadata": {
    "colab": {
     "base_uri": "https://localhost:8080/"
    },
    "executionInfo": {
     "elapsed": 8415,
     "status": "ok",
     "timestamp": 1668431398913,
     "user": {
      "displayName": "Наталья Пояркова",
      "userId": "05997905871093046879"
     },
     "user_tz": -180
    },
    "id": "8jcbac1_fJnW",
    "outputId": "4977a7ce-bbf3-4f02-86dc-2b1a000ef34e"
   },
   "outputs": [
    {
     "name": "stdout",
     "output_type": "stream",
     "text": [
      "Введите строку: фыва\n"
     ]
    }
   ],
   "source": [
    "new_str = input(\"Введите строку: \")"
   ]
  },
  {
   "cell_type": "code",
   "execution_count": null,
   "metadata": {
    "colab": {
     "base_uri": "https://localhost:8080/",
     "height": 35
    },
    "executionInfo": {
     "elapsed": 23,
     "status": "ok",
     "timestamp": 1668431398913,
     "user": {
      "displayName": "Наталья Пояркова",
      "userId": "05997905871093046879"
     },
     "user_tz": -180
    },
    "id": "REf8u6-ufkzP",
    "outputId": "3938651d-ccd8-44f1-f288-cf48256fa39c"
   },
   "outputs": [
    {
     "data": {
      "application/vnd.google.colaboratory.intrinsic+json": {
       "type": "string"
      },
      "text/plain": [
       "'фыва'"
      ]
     },
     "execution_count": 7,
     "metadata": {},
     "output_type": "execute_result"
    }
   ],
   "source": [
    "new_str\n"
   ]
  },
  {
   "cell_type": "markdown",
   "metadata": {
    "id": "aKbyFVjoCq2l"
   },
   "source": [
    "## Многострочные строки\n",
    "Вы можете присвоить многострочную строку переменной, используя три кавычки:"
   ]
  },
  {
   "cell_type": "code",
   "execution_count": null,
   "metadata": {
    "colab": {
     "base_uri": "https://localhost:8080/"
    },
    "executionInfo": {
     "elapsed": 23,
     "status": "ok",
     "timestamp": 1668431398914,
     "user": {
      "displayName": "Наталья Пояркова",
      "userId": "05997905871093046879"
     },
     "user_tz": -180
    },
    "id": "8H95vPF0CzjG",
    "outputId": "9ecd0f82-7712-4d39-e13e-35c519f0126e"
   },
   "outputs": [
    {
     "name": "stdout",
     "output_type": "stream",
     "text": [
      "Lorem ipsum dolor sit amet,\n",
      "consectetur adipiscing elit,\n",
      "sed do eiusmod tempor incididunt\n",
      "ut labore et dolore magna aliqua.\n"
     ]
    }
   ],
   "source": [
    "a = \"\"\"Lorem ipsum dolor sit amet,\n",
    "consectetur adipiscing elit,\n",
    "sed do eiusmod tempor incididunt\n",
    "ut labore et dolore magna aliqua.\"\"\"\n",
    "print(a)"
   ]
  },
  {
   "cell_type": "markdown",
   "metadata": {
    "id": "OMQaxndqC-Yk"
   },
   "source": [
    "Или три одинарных кавычки:"
   ]
  },
  {
   "cell_type": "code",
   "execution_count": null,
   "metadata": {
    "colab": {
     "base_uri": "https://localhost:8080/"
    },
    "executionInfo": {
     "elapsed": 19,
     "status": "ok",
     "timestamp": 1668431398914,
     "user": {
      "displayName": "Наталья Пояркова",
      "userId": "05997905871093046879"
     },
     "user_tz": -180
    },
    "id": "9g2ReTmbDAxi",
    "outputId": "9f0363b1-50cd-487d-a86d-c7f29505683d"
   },
   "outputs": [
    {
     "name": "stdout",
     "output_type": "stream",
     "text": [
      "Lorem ipsum dolor sit amet,\n",
      "consectetur adipiscing elit,\n",
      "sed do eiusmod tempor incididunt\n",
      "ut labore et dolore magna aliqua.\n"
     ]
    }
   ],
   "source": [
    "a = '''Lorem ipsum dolor sit amet,\n",
    "consectetur adipiscing elit,\n",
    "sed do eiusmod tempor incididunt\n",
    "ut labore et dolore magna aliqua.'''\n",
    "print(a)"
   ]
  },
  {
   "cell_type": "markdown",
   "metadata": {
    "id": "aKi52gTmDC1X"
   },
   "source": [
    "**Примечание**: в результате разрывы строк вставляются в том же месте, что и в коде."
   ]
  },
  {
   "cell_type": "markdown",
   "metadata": {
    "id": "twAI0GLwDL0h"
   },
   "source": [
    "## Строки — это массивы\n",
    "Как и во многих других популярных языках программирования, строки в Python представляют собой массивы байтов, представляющие символы Юникода.\n",
    "\n",
    "Однако в Python нет символьного типа данных, один символ — это просто строка длиной 1.\n",
    "\n",
    "Квадратные скобки можно использовать для доступа к элементам строки."
   ]
  },
  {
   "cell_type": "markdown",
   "metadata": {
    "id": "vvLHYHa4DaGT"
   },
   "source": [
    "Получить символ в позиции 1 (помните, что первый символ имеет позицию 0):"
   ]
  },
  {
   "cell_type": "code",
   "execution_count": null,
   "metadata": {
    "colab": {
     "base_uri": "https://localhost:8080/"
    },
    "executionInfo": {
     "elapsed": 18,
     "status": "ok",
     "timestamp": 1668431398915,
     "user": {
      "displayName": "Наталья Пояркова",
      "userId": "05997905871093046879"
     },
     "user_tz": -180
    },
    "id": "cpJ2K6mADbzI",
    "outputId": "68a8557d-4915-487e-e290-4343d4e34ca4"
   },
   "outputs": [
    {
     "name": "stdout",
     "output_type": "stream",
     "text": [
      "р\n"
     ]
    }
   ],
   "source": [
    "a = \"Привет Мир!\"\n",
    "print(a[1])"
   ]
  },
  {
   "cell_type": "markdown",
   "metadata": {
    "id": "9IY28-PDDmkL"
   },
   "source": [
    "## Перебор символов строки\n",
    "Поскольку строки являются массивами, мы можем перебирать символы в строке с помощью цикла for."
   ]
  },
  {
   "cell_type": "code",
   "execution_count": null,
   "metadata": {
    "colab": {
     "base_uri": "https://localhost:8080/"
    },
    "executionInfo": {
     "elapsed": 17,
     "status": "ok",
     "timestamp": 1668431398915,
     "user": {
      "displayName": "Наталья Пояркова",
      "userId": "05997905871093046879"
     },
     "user_tz": -180
    },
    "id": "1eUERVfXDtq1",
    "outputId": "b9af1e36-d651-4f6a-ee75-ad1074da435c"
   },
   "outputs": [
    {
     "name": "stdout",
     "output_type": "stream",
     "text": [
      "б\n",
      "а\n",
      "н\n",
      "а\n",
      "н\n"
     ]
    }
   ],
   "source": [
    "for x in \"банан\":\n",
    "  print(x)"
   ]
  },
  {
   "cell_type": "markdown",
   "metadata": {
    "id": "vxWnFPrMD49o"
   },
   "source": [
    "## Длина строки"
   ]
  },
  {
   "cell_type": "markdown",
   "metadata": {
    "id": "3tFpGXvzD6Bu"
   },
   "source": [
    "Чтобы получить длину строки, используйте функцию len()."
   ]
  },
  {
   "cell_type": "code",
   "execution_count": null,
   "metadata": {
    "colab": {
     "base_uri": "https://localhost:8080/"
    },
    "executionInfo": {
     "elapsed": 15,
     "status": "ok",
     "timestamp": 1668431398915,
     "user": {
      "displayName": "Наталья Пояркова",
      "userId": "05997905871093046879"
     },
     "user_tz": -180
    },
    "id": "guvBcYQ-EAG4",
    "outputId": "3fc9ac23-e374-48c3-a145-547099c6d0af"
   },
   "outputs": [
    {
     "name": "stdout",
     "output_type": "stream",
     "text": [
      "11\n"
     ]
    }
   ],
   "source": [
    "a = \"Привет Мир!\"\n",
    "print(len(a))"
   ]
  },
  {
   "cell_type": "markdown",
   "metadata": {
    "id": "frxSnpcHENU9"
   },
   "source": [
    "## Проверка на находжение в строке подстроки\n",
    "Чтобы проверить, присутствует ли в строке определенная фраза или символ, мы можем использовать ключевое слово in."
   ]
  },
  {
   "cell_type": "markdown",
   "metadata": {
    "id": "oVP1_-MWEREy"
   },
   "source": [
    "Проверьте, присутствует ли слово «бесплатны» в следующем тексте:"
   ]
  },
  {
   "cell_type": "code",
   "execution_count": null,
   "metadata": {
    "colab": {
     "base_uri": "https://localhost:8080/"
    },
    "executionInfo": {
     "elapsed": 15,
     "status": "ok",
     "timestamp": 1668431398916,
     "user": {
      "displayName": "Наталья Пояркова",
      "userId": "05997905871093046879"
     },
     "user_tz": -180
    },
    "id": "icY1Rs_JEPC_",
    "outputId": "b4e999e8-dbeb-412d-dfea-765edf163628"
   },
   "outputs": [
    {
     "name": "stdout",
     "output_type": "stream",
     "text": [
      "True\n"
     ]
    }
   ],
   "source": [
    "txt = \"Лучшие вещи в жизни бесплатны!\"\n",
    "print(\"бесплатны\" in txt)"
   ]
  },
  {
   "cell_type": "markdown",
   "metadata": {
    "id": "Bte9HYlOErCE"
   },
   "source": [
    "Используйте его в if заявлении:"
   ]
  },
  {
   "cell_type": "code",
   "execution_count": null,
   "metadata": {
    "colab": {
     "base_uri": "https://localhost:8080/"
    },
    "executionInfo": {
     "elapsed": 13,
     "status": "ok",
     "timestamp": 1668431398916,
     "user": {
      "displayName": "Наталья Пояркова",
      "userId": "05997905871093046879"
     },
     "user_tz": -180
    },
    "id": "P97PqisfEr52",
    "outputId": "da843960-80df-4b9c-f2e3-a985d1758dad"
   },
   "outputs": [
    {
     "name": "stdout",
     "output_type": "stream",
     "text": [
      "Да, 'свобода' это подарок.\n"
     ]
    }
   ],
   "source": [
    "txt = \"В жизни лучшая вещь, это свобода!\"\n",
    "if \"свобода\" in txt:\n",
    "  print(\"Да, 'свобода' это подарок.\")"
   ]
  },
  {
   "cell_type": "markdown",
   "metadata": {
    "id": "O0lilsCAFMXI"
   },
   "source": [
    "Чтобы проверить, **не присутствует ли** в строке определенная фраза или символ, мы можем использовать логическую операцию `not in`."
   ]
  },
  {
   "cell_type": "markdown",
   "metadata": {
    "id": "7Bw_WdYvFecp"
   },
   "source": [
    "Проверьте, НЕ присутствует ли слово «дорогой» в следующем тексте:"
   ]
  },
  {
   "cell_type": "code",
   "execution_count": null,
   "metadata": {
    "colab": {
     "base_uri": "https://localhost:8080/"
    },
    "executionInfo": {
     "elapsed": 12,
     "status": "ok",
     "timestamp": 1668431398916,
     "user": {
      "displayName": "Наталья Пояркова",
      "userId": "05997905871093046879"
     },
     "user_tz": -180
    },
    "id": "WscchStFFbg-",
    "outputId": "b47f2695-241c-41d0-8b25-3135ba49f6a9"
   },
   "outputs": [
    {
     "name": "stdout",
     "output_type": "stream",
     "text": [
      "True\n"
     ]
    }
   ],
   "source": [
    "txt = \"Лучшие вещи в жизни бесплатны!\"\n",
    "print(\"дорогой\" not in txt)"
   ]
  },
  {
   "cell_type": "markdown",
   "metadata": {
    "id": "dHXzhSHMF9Xc"
   },
   "source": [
    "Например, вывести текст, только если слово \"дорогой\" НЕ присутствует в исходной стркое txt:"
   ]
  },
  {
   "cell_type": "code",
   "execution_count": null,
   "metadata": {
    "colab": {
     "base_uri": "https://localhost:8080/"
    },
    "executionInfo": {
     "elapsed": 11,
     "status": "ok",
     "timestamp": 1668431398916,
     "user": {
      "displayName": "Наталья Пояркова",
      "userId": "05997905871093046879"
     },
     "user_tz": -180
    },
    "id": "IKkHqYh4F7SC",
    "outputId": "cb1a1048-10aa-4ee3-e9a4-4dcaf80f4381"
   },
   "outputs": [
    {
     "name": "stdout",
     "output_type": "stream",
     "text": [
      "Нет, 'дорогой' это НЕ подарок.\n"
     ]
    }
   ],
   "source": [
    "txt = \"Лучшие вещи в жизни бесплатны!\"\n",
    "if \"дорогой\" not in txt:\n",
    "  print(\"Нет, 'дорогой' это НЕ подарок.\")"
   ]
  },
  {
   "cell_type": "markdown",
   "metadata": {
    "id": "r0eUrjFkGKt5"
   },
   "source": [
    "## Срезы строк (slicing)"
   ]
  },
  {
   "cell_type": "markdown",
   "metadata": {
    "id": "Mg9KVQGwGoXw"
   },
   "source": [
    "Вы можете получить диапазон символов (подстроку), используя синтаксис среза.\n",
    "\n",
    "Укажите начальный и конечный индексы, разделенные двоеточием, чтобы вернуть часть строки."
   ]
  },
  {
   "cell_type": "markdown",
   "metadata": {
    "id": "9ze76OMpGw86"
   },
   "source": [
    "Получить символы в диапазоне от позиции 2 до позицию 5 (позиция 5 не включается):"
   ]
  },
  {
   "cell_type": "code",
   "execution_count": null,
   "metadata": {
    "colab": {
     "base_uri": "https://localhost:8080/"
    },
    "executionInfo": {
     "elapsed": 10,
     "status": "ok",
     "timestamp": 1668431398917,
     "user": {
      "displayName": "Наталья Пояркова",
      "userId": "05997905871093046879"
     },
     "user_tz": -180
    },
    "id": "P9_8U_dcGuaY",
    "outputId": "b4224935-2f73-46e6-ad7d-5b24bbcd1f8b"
   },
   "outputs": [
    {
     "name": "stdout",
     "output_type": "stream",
     "text": [
      "иве\n"
     ]
    }
   ],
   "source": [
    "b = \"Привет Мир!\"\n",
    "print(b[2:5])"
   ]
  },
  {
   "cell_type": "markdown",
   "metadata": {
    "id": "B4F9UTi6G-yr"
   },
   "source": [
    ">**Примечание**: первый символ имеет индекс 0."
   ]
  },
  {
   "cell_type": "markdown",
   "metadata": {
    "id": "sZiE3307HDTO"
   },
   "source": [
    "## Срез с самого начала\n",
    "Если исключить начальный индекс, диапазон будет начинаться с первого символа:"
   ]
  },
  {
   "cell_type": "markdown",
   "metadata": {
    "id": "B8xPdcXIHHNQ"
   },
   "source": [
    "Получить символы от начала до позиции 6 (не включены):"
   ]
  },
  {
   "cell_type": "code",
   "execution_count": null,
   "metadata": {
    "colab": {
     "base_uri": "https://localhost:8080/"
    },
    "executionInfo": {
     "elapsed": 513,
     "status": "ok",
     "timestamp": 1668431399421,
     "user": {
      "displayName": "Наталья Пояркова",
      "userId": "05997905871093046879"
     },
     "user_tz": -180
    },
    "id": "Q35ahaHFHEtJ",
    "outputId": "614368d7-4b1d-4f7f-9251-be640089781f"
   },
   "outputs": [
    {
     "name": "stdout",
     "output_type": "stream",
     "text": [
      "Привет\n"
     ]
    }
   ],
   "source": [
    "b = \"Привет Мир!\"\n",
    "print(b[:6])"
   ]
  },
  {
   "cell_type": "markdown",
   "metadata": {
    "id": "a1YEGrUcH8ea"
   },
   "source": [
    "## Срез до конца строки\n",
    "Если исключить конечный индекс, диапазон будет доведен до конца:"
   ]
  },
  {
   "cell_type": "markdown",
   "metadata": {
    "id": "x8fvtTbnH-1f"
   },
   "source": [
    "Получите символы с позиции 2 и до конца:"
   ]
  },
  {
   "cell_type": "code",
   "execution_count": null,
   "metadata": {
    "colab": {
     "base_uri": "https://localhost:8080/"
    },
    "executionInfo": {
     "elapsed": 15,
     "status": "ok",
     "timestamp": 1668431399421,
     "user": {
      "displayName": "Наталья Пояркова",
      "userId": "05997905871093046879"
     },
     "user_tz": -180
    },
    "id": "SEsSI9YoH9d8",
    "outputId": "4b84674f-46f6-4b07-bf87-8d82fe235284"
   },
   "outputs": [
    {
     "name": "stdout",
     "output_type": "stream",
     "text": [
      "ивет Мир!\n"
     ]
    }
   ],
   "source": [
    "b = \"Привет Мир!\"\n",
    "print(b[2:])"
   ]
  },
  {
   "cell_type": "markdown",
   "metadata": {
    "id": "e74goTDFIG0e"
   },
   "source": [
    "## Отрицательное индексирование\n",
    "Используйте отрицательные индексы, чтобы начать срез с конца строки:"
   ]
  },
  {
   "cell_type": "code",
   "execution_count": null,
   "metadata": {
    "colab": {
     "base_uri": "https://localhost:8080/"
    },
    "executionInfo": {
     "elapsed": 14,
     "status": "ok",
     "timestamp": 1668431399422,
     "user": {
      "displayName": "Наталья Пояркова",
      "userId": "05997905871093046879"
     },
     "user_tz": -180
    },
    "id": "Z5zS4ohnIL6K",
    "outputId": "d0fec2f1-719e-449e-b9d6-752f8a871ada"
   },
   "outputs": [
    {
     "name": "stdout",
     "output_type": "stream",
     "text": [
      "тМи\n"
     ]
    }
   ],
   "source": [
    "b = \"ПриветМир!\"\n",
    "print(b[-5:-2])"
   ]
  },
  {
   "cell_type": "markdown",
   "metadata": {
    "id": "sdBG5PCiL3Lt"
   },
   "source": [
    "#Задание 1"
   ]
  },
  {
   "cell_type": "markdown",
   "metadata": {
    "id": "n4oOrkBaMHNM"
   },
   "source": [
    "![image.png](data:image/png;base64,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)"
   ]
  },
  {
   "cell_type": "code",
   "execution_count": null,
   "metadata": {
    "id": "dEwnyoPvM8dt"
   },
   "outputs": [],
   "source": [
    "home = \"Дом, родной дом!\""
   ]
  },
  {
   "cell_type": "markdown",
   "metadata": {
    "id": "4hzjA3t2L8R9"
   },
   "source": [
    "###1.1 Дана строка. Выведите символ, стоящий на 3 месте"
   ]
  },
  {
   "cell_type": "code",
   "execution_count": null,
   "metadata": {
    "id": "fXJ0QYkfMZou"
   },
   "outputs": [],
   "source": [
    "home = \"Дом, родной дом!\"\n",
    "third_character = home[2]\n",
    "print(third_character)\n"
   ]
  },
  {
   "cell_type": "markdown",
   "metadata": {
    "id": "ORzAfmapMsyF"
   },
   "source": [
    "###1.2 Выведите длину заданной строки"
   ]
  },
  {
   "cell_type": "code",
   "execution_count": null,
   "metadata": {
    "id": "zZKAZuVSNE4N"
   },
   "outputs": [],
   "source": [
    "home = \"Дом, родной дом!\"\n",
    "length_of_string = len(home)\n",
    "print(length_of_string)\n"
   ]
  },
  {
   "cell_type": "markdown",
   "metadata": {
    "id": "6pJTbjygNF2u"
   },
   "source": [
    "###1.2 Выведите часть строки - с  начала до 4 символа включительно"
   ]
  },
  {
   "cell_type": "code",
   "execution_count": null,
   "metadata": {
    "id": "Dntx-gYUMsRF"
   },
   "outputs": [],
   "source": [
    "home = \"Дом, родной дом!\"\n",
    "substring = home[0:4]\n",
    "print(substring)\n"
   ]
  },
  {
   "cell_type": "markdown",
   "metadata": {
    "id": "sn8DXVH5Nzie"
   },
   "source": [
    "###1.3 Дана строка \"Дом, родной дом!\" Выведите часть этой строки, так, чтобы получилось слово \"родной\""
   ]
  },
  {
   "cell_type": "code",
   "execution_count": null,
   "metadata": {
    "id": "V_bcc68VOPBW"
   },
   "outputs": [],
   "source": [
    "home = \"Дом, родной дом!\"\n",
    "substring = home[5:11]\n",
    "print(substring)\n"
   ]
  },
  {
   "cell_type": "markdown",
   "metadata": {
    "id": "KMPWtboeOz6Q"
   },
   "source": [
    "###1.4.Выведите часть заданной строки с 5 символа и до конца"
   ]
  },
  {
   "cell_type": "code",
   "execution_count": null,
   "metadata": {
    "id": "xP1Amtk6PFKm"
   },
   "outputs": [],
   "source": [
    "home = \"Дом, родной дом!\"\n",
    "substring = home[5:]\n",
    "print(substring)\n"
   ]
  },
  {
   "cell_type": "markdown",
   "metadata": {
    "id": "W37py3VROUg4"
   },
   "source": [
    "###1.4 Выведите последние 4 символа заданной строки"
   ]
  },
  {
   "cell_type": "code",
   "execution_count": null,
   "metadata": {
    "id": "chYwkdw2Oe12"
   },
   "outputs": [],
   "source": [
    "home = \"Дом, родной дом!\"\n",
    "last_four_chars = home[-4:]\n",
    "print(last_four_chars)\n"
   ]
  },
  {
   "cell_type": "markdown",
   "metadata": {
    "id": "N27u8QDoPdsu"
   },
   "source": [
    "###1.5 Определите, есть ли подстрока \"ой\" в заданной строке"
   ]
  },
  {
   "cell_type": "code",
   "execution_count": null,
   "metadata": {
    "id": "_si62nwFPyku"
   },
   "outputs": [],
   "source": [
    "home = \"Дом, родной дом!\"\n",
    "substring = \"ой\"\n",
    "\n",
    "if substring in home:\n",
    "    print(f'Подстрока \"{substring}\" найдена в строке.')\n",
    "else:\n",
    "    print(f'Подстрока \"{substring}\" не найдена в строке.')"
   ]
  },
  {
   "cell_type": "markdown",
   "metadata": {
    "id": "bLZAZQuUIaqK"
   },
   "source": [
    "# Изменения строки"
   ]
  },
  {
   "cell_type": "markdown",
   "metadata": {
    "id": "_1k-D_4uJLzt"
   },
   "source": [
    "## В Python есть набор встроенных методов, которые можно использовать со строками."
   ]
  },
  {
   "cell_type": "markdown",
   "metadata": {
    "id": "iP7wnHSNJVZU"
   },
   "source": [
    "## Upper Case"
   ]
  },
  {
   "cell_type": "markdown",
   "metadata": {
    "id": "jHRiNNa8JfVo"
   },
   "source": [
    "Метод upper() возвращает строку в верхнем регистре:"
   ]
  },
  {
   "cell_type": "code",
   "execution_count": null,
   "metadata": {
    "colab": {
     "base_uri": "https://localhost:8080/"
    },
    "executionInfo": {
     "elapsed": 10,
     "status": "ok",
     "timestamp": 1668431399423,
     "user": {
      "displayName": "Наталья Пояркова",
      "userId": "05997905871093046879"
     },
     "user_tz": -180
    },
    "id": "SUkcSeSyJf63",
    "outputId": "c71b63aa-b313-4532-d488-4c2fe49a99bb"
   },
   "outputs": [
    {
     "name": "stdout",
     "output_type": "stream",
     "text": [
      "ПРИВЕТ МИР!\n",
      "Привет Мир!\n"
     ]
    }
   ],
   "source": [
    "a = \"Привет Мир!\"\n",
    "print(a.upper())\n",
    "print(a)\n"
   ]
  },
  {
   "cell_type": "markdown",
   "metadata": {
    "id": "pYwpaH4BLC81"
   },
   "source": [
    "## Lower Case"
   ]
  },
  {
   "cell_type": "markdown",
   "metadata": {
    "id": "JxsLO__ALFSm"
   },
   "source": [
    "Метод lower() возвращает строку в нижнем регистре:"
   ]
  },
  {
   "cell_type": "code",
   "execution_count": null,
   "metadata": {
    "colab": {
     "base_uri": "https://localhost:8080/"
    },
    "executionInfo": {
     "elapsed": 10,
     "status": "ok",
     "timestamp": 1668431399424,
     "user": {
      "displayName": "Наталья Пояркова",
      "userId": "05997905871093046879"
     },
     "user_tz": -180
    },
    "id": "gVckhkq3LD1e",
    "outputId": "ce9fa311-ceee-4a66-f191-8f7c74043716"
   },
   "outputs": [
    {
     "name": "stdout",
     "output_type": "stream",
     "text": [
      "привет мир!\n",
      "Привет Мир!\n"
     ]
    }
   ],
   "source": [
    "a = \"Привет Мир!\"\n",
    "print(a.lower())\n",
    "print(a)"
   ]
  },
  {
   "cell_type": "markdown",
   "metadata": {
    "id": "75L-rLxKLWp4"
   },
   "source": [
    "## Удаление пробела\n",
    "Пробел — это пространство до и/или после фактического текста, и очень часто приходится удалиять это пространство (например, в случае, когда строка получена пользовательским вводом, и требуется дальнейшая обработка введеной строки."
   ]
  },
  {
   "cell_type": "markdown",
   "metadata": {
    "id": "u3olbb2nL0kJ"
   },
   "source": [
    "Метод strip() удаляет все пробелы в начале и в конце строки:"
   ]
  },
  {
   "cell_type": "code",
   "execution_count": null,
   "metadata": {
    "colab": {
     "base_uri": "https://localhost:8080/"
    },
    "executionInfo": {
     "elapsed": 8,
     "status": "ok",
     "timestamp": 1668431399424,
     "user": {
      "displayName": "Наталья Пояркова",
      "userId": "05997905871093046879"
     },
     "user_tz": -180
    },
    "id": "96BugfuwL1mm",
    "outputId": "bea799a1-4c9a-47e3-c4a3-49c43ba63409"
   },
   "outputs": [
    {
     "name": "stdout",
     "output_type": "stream",
     "text": [
      "Привет Мир!\n",
      "    Привет Мир!    \n"
     ]
    }
   ],
   "source": [
    "a = \"    Привет Мир!    \"\n",
    "b = a.strip()\n",
    "print(b) # returns \"Привет Мир!\"\n",
    "print(a)"
   ]
  },
  {
   "cell_type": "code",
   "execution_count": null,
   "metadata": {
    "colab": {
     "base_uri": "https://localhost:8080/"
    },
    "executionInfo": {
     "elapsed": 4864,
     "status": "ok",
     "timestamp": 1668431404282,
     "user": {
      "displayName": "Наталья Пояркова",
      "userId": "05997905871093046879"
     },
     "user_tz": -180
    },
    "id": "wxvmMghVqNiI",
    "outputId": "74499c61-5e71-4827-d3c2-aa497ce88789"
   },
   "outputs": [
    {
     "name": "stdout",
     "output_type": "stream",
     "text": [
      "Введите Ваше имя: ф\\ывп\n",
      "Доброго дня,  ф\\ывп\n"
     ]
    }
   ],
   "source": [
    "name = input(\"Введите Ваше имя: \")\n",
    "print (\"Доброго дня, \", name.strip())"
   ]
  },
  {
   "cell_type": "markdown",
   "metadata": {
    "id": "hHWmqXhDMDvA"
   },
   "source": [
    "## Замена строки"
   ]
  },
  {
   "cell_type": "markdown",
   "metadata": {
    "id": "cVzyZ3g_MHNt"
   },
   "source": [
    "Метод replace() заменяет одну строку другой строкой:"
   ]
  },
  {
   "cell_type": "code",
   "execution_count": null,
   "metadata": {
    "colab": {
     "base_uri": "https://localhost:8080/"
    },
    "executionInfo": {
     "elapsed": 13,
     "status": "ok",
     "timestamp": 1668431404283,
     "user": {
      "displayName": "Наталья Пояркова",
      "userId": "05997905871093046879"
     },
     "user_tz": -180
    },
    "id": "HI2mZArTMXg3",
    "outputId": "6db93d44-8090-492b-f694-369b9c2a9c69"
   },
   "outputs": [
    {
     "name": "stdout",
     "output_type": "stream",
     "text": [
      "Жривет Мир!\n"
     ]
    }
   ],
   "source": [
    "a = \"Привет Мир!\"\n",
    "print(a.replace(\"П\", \"Ж\"))"
   ]
  },
  {
   "cell_type": "markdown",
   "metadata": {
    "id": "C57-VeFKMd6v"
   },
   "source": [
    "## Разделить строку\n",
    "Метод split() возвращает список, в котором текст между указанным разделителем становится элементами списка."
   ]
  },
  {
   "cell_type": "markdown",
   "metadata": {
    "id": "pW_-q-BdMjLG"
   },
   "source": [
    "Метод split() разбивает строку на подстроки, если находит экземпляры разделителя:"
   ]
  },
  {
   "cell_type": "code",
   "execution_count": null,
   "metadata": {
    "colab": {
     "base_uri": "https://localhost:8080/"
    },
    "executionInfo": {
     "elapsed": 12,
     "status": "ok",
     "timestamp": 1668431404283,
     "user": {
      "displayName": "Наталья Пояркова",
      "userId": "05997905871093046879"
     },
     "user_tz": -180
    },
    "id": "EYX4oW-dMkY7",
    "outputId": "81283315-9512-4538-999e-344786d9604b"
   },
   "outputs": [
    {
     "name": "stdout",
     "output_type": "stream",
     "text": [
      "['Привет', 'Мир', 'hello!']\n"
     ]
    }
   ],
   "source": [
    "a = \"Привет Мир hello!\"\n",
    "print(a.split(\" \")) # returns ['Привет', ' Мир!']"
   ]
  },
  {
   "cell_type": "markdown",
   "metadata": {
    "id": "ySk-QeKOM90I"
   },
   "source": [
    "## Конкатенация (слияние) строк\n",
    "Чтобы соединить или объединить две строки, вы можете использовать оператор +."
   ]
  },
  {
   "cell_type": "markdown",
   "metadata": {
    "id": "LV1rdekyNCVb"
   },
   "source": [
    "Объединить переменную \"a\" с переменной \"b\" в переменную \"c\":"
   ]
  },
  {
   "cell_type": "code",
   "execution_count": null,
   "metadata": {
    "colab": {
     "base_uri": "https://localhost:8080/"
    },
    "executionInfo": {
     "elapsed": 10,
     "status": "ok",
     "timestamp": 1668431404283,
     "user": {
      "displayName": "Наталья Пояркова",
      "userId": "05997905871093046879"
     },
     "user_tz": -180
    },
    "id": "akVui9jeNJRQ",
    "outputId": "04e4f70a-0f80-4085-edd4-34dd9ec95f22"
   },
   "outputs": [
    {
     "name": "stdout",
     "output_type": "stream",
     "text": [
      "ПриветМир\n"
     ]
    }
   ],
   "source": [
    "a = \"Привет\"\n",
    "b = \"Мир\"\n",
    "c = a + b\n",
    "print(c)"
   ]
  },
  {
   "cell_type": "markdown",
   "metadata": {
    "id": "DLNKXSwsNR6s"
   },
   "source": [
    "Чтобы добавить пробел между ними, добавьте \" \":"
   ]
  },
  {
   "cell_type": "code",
   "execution_count": null,
   "metadata": {
    "colab": {
     "base_uri": "https://localhost:8080/"
    },
    "executionInfo": {
     "elapsed": 9,
     "status": "ok",
     "timestamp": 1668431404284,
     "user": {
      "displayName": "Наталья Пояркова",
      "userId": "05997905871093046879"
     },
     "user_tz": -180
    },
    "id": "g5aLi-tlNSuw",
    "outputId": "e8a8b899-4bf2-42ad-805f-57701cf459bb"
   },
   "outputs": [
    {
     "name": "stdout",
     "output_type": "stream",
     "text": [
      "Привет  Мир ты прекрасен\n"
     ]
    }
   ],
   "source": [
    "a = \"Привет\"\n",
    "b = \"Мир\"\n",
    "c = a + \"  \" + b + \" ты прекрасен\"\n",
    "print(c)"
   ]
  },
  {
   "cell_type": "markdown",
   "metadata": {
    "id": "g6aaswCpNkk6"
   },
   "source": [
    "# Форматирование строки"
   ]
  },
  {
   "cell_type": "markdown",
   "metadata": {
    "id": "arF9OhyCNsQ5"
   },
   "source": [
    "Как мы узнали из темы «Переменные Python», мы не можем комбинировать строки и числа следующим образом:"
   ]
  },
  {
   "cell_type": "code",
   "execution_count": null,
   "metadata": {
    "colab": {
     "base_uri": "https://localhost:8080/",
     "height": 201
    },
    "executionInfo": {
     "elapsed": 263,
     "status": "error",
     "timestamp": 1668431424914,
     "user": {
      "displayName": "Наталья Пояркова",
      "userId": "05997905871093046879"
     },
     "user_tz": -180
    },
    "id": "-DlQFsUzN3bV",
    "outputId": "beed76f9-ce64-410f-9e1d-52a4aa43128b"
   },
   "outputs": [
    {
     "ename": "TypeError",
     "evalue": "ignored",
     "output_type": "error",
     "traceback": [
      "\u001b[0;31m---------------------------------------------------------------------------\u001b[0m",
      "\u001b[0;31mTypeError\u001b[0m                                 Traceback (most recent call last)",
      "\u001b[0;32m<ipython-input-35-4d1b227cff41>\u001b[0m in \u001b[0;36m<module>\u001b[0;34m\u001b[0m\n\u001b[1;32m      1\u001b[0m \u001b[0mage\u001b[0m \u001b[0;34m=\u001b[0m \u001b[0;36m36\u001b[0m\u001b[0;34m\u001b[0m\u001b[0;34m\u001b[0m\u001b[0m\n\u001b[0;32m----> 2\u001b[0;31m \u001b[0mtxt\u001b[0m \u001b[0;34m=\u001b[0m \u001b[0;34m\"My name is John, I am \"\u001b[0m \u001b[0;34m+\u001b[0m \u001b[0mage\u001b[0m\u001b[0;34m\u001b[0m\u001b[0;34m\u001b[0m\u001b[0m\n\u001b[0m\u001b[1;32m      3\u001b[0m \u001b[0mprint\u001b[0m\u001b[0;34m(\u001b[0m\u001b[0mtxt\u001b[0m\u001b[0;34m)\u001b[0m\u001b[0;34m\u001b[0m\u001b[0;34m\u001b[0m\u001b[0m\n",
      "\u001b[0;31mTypeError\u001b[0m: can only concatenate str (not \"int\") to str"
     ]
    }
   ],
   "source": [
    "age = 36\n",
    "txt = \"My name is John, I am \" + age\n",
    "print(txt)"
   ]
  },
  {
   "cell_type": "markdown",
   "metadata": {
    "id": "pgGT2INtOB7v"
   },
   "source": [
    "Но мы можем комбинировать строки и числа с помощью метода `format()` \n",
    "\n",
    "Метод `format()` принимает переданные аргументы, форматирует их и помещает в строку, где в фигурных скобках `{}` находятся *заполнители*:"
   ]
  },
  {
   "cell_type": "markdown",
   "metadata": {
    "id": "Mn-BXwUHOB29"
   },
   "source": [
    "Используйте `format()` метод для вставки чисел в строки:"
   ]
  },
  {
   "cell_type": "code",
   "execution_count": null,
   "metadata": {
    "colab": {
     "base_uri": "https://localhost:8080/"
    },
    "executionInfo": {
     "elapsed": 257,
     "status": "ok",
     "timestamp": 1668431430226,
     "user": {
      "displayName": "Наталья Пояркова",
      "userId": "05997905871093046879"
     },
     "user_tz": -180
    },
    "id": "0n2t4YThOMCJ",
    "outputId": "08a9c53c-704c-4517-f3e9-3ff6aff9ed60"
   },
   "outputs": [
    {
     "name": "stdout",
     "output_type": "stream",
     "text": [
      "Меня зовут Джон, и мне 36\n"
     ]
    }
   ],
   "source": [
    "age = 36\n",
    "txt = \"Меня зовут Джон, и мне {}\"\n",
    "print(txt.format(age))"
   ]
  },
  {
   "cell_type": "markdown",
   "metadata": {
    "id": "YVhyBot5PBup"
   },
   "source": [
    "Метод format() принимает неограниченное количество аргументов и помещает аргументы в соответствующие заполнители:"
   ]
  },
  {
   "cell_type": "code",
   "execution_count": null,
   "metadata": {
    "colab": {
     "base_uri": "https://localhost:8080/"
    },
    "executionInfo": {
     "elapsed": 275,
     "status": "ok",
     "timestamp": 1668431432901,
     "user": {
      "displayName": "Наталья Пояркова",
      "userId": "05997905871093046879"
     },
     "user_tz": -180
    },
    "id": "1lKOI_zqPEjy",
    "outputId": "9cfde54c-9135-46b7-d06e-09180d7ba231"
   },
   "outputs": [
    {
     "name": "stdout",
     "output_type": "stream",
     "text": [
      "Я хочу 3 кусочка 567 за 49.95 доллара.\n"
     ]
    }
   ],
   "source": [
    "quantity = 3\n",
    "itemno = 567\n",
    "price = 49.95\n",
    "my_order = \"Я хочу {} кусочка {} за {} доллара.\"\n",
    "print(my_order.format(quantity, itemno, price))"
   ]
  },
  {
   "cell_type": "markdown",
   "metadata": {
    "id": "do13wniOPTu2"
   },
   "source": [
    "Вы можете использовать порядковые номера {0}, чтобы убедиться, что аргументы помещены в правильные заполнители:"
   ]
  },
  {
   "cell_type": "code",
   "execution_count": null,
   "metadata": {
    "colab": {
     "base_uri": "https://localhost:8080/"
    },
    "executionInfo": {
     "elapsed": 572,
     "status": "ok",
     "timestamp": 1668431434841,
     "user": {
      "displayName": "Наталья Пояркова",
      "userId": "05997905871093046879"
     },
     "user_tz": -180
    },
    "id": "Qm-8NdQePUjq",
    "outputId": "f8652221-b173-4b82-86ad-94b1ccf3b5d9"
   },
   "outputs": [
    {
     "name": "stdout",
     "output_type": "stream",
     "text": [
      "Я хочу заплатить 49.95 доллара за 3 кусочка 567.\n"
     ]
    }
   ],
   "source": [
    "quantity = 3\n",
    "itemno = 567\n",
    "price = 49.95\n",
    "my_order = \"Я хочу заплатить {2} доллара за {0} кусочка {1}.\"\n",
    "print(my_order.format(quantity, itemno, price))"
   ]
  },
  {
   "cell_type": "markdown",
   "metadata": {
    "id": "gktctI_syaVn"
   },
   "source": []
  },
  {
   "cell_type": "markdown",
   "metadata": {
    "id": "xCUGYrENPzdl"
   },
   "source": [
    "# Escape-символы"
   ]
  },
  {
   "cell_type": "markdown",
   "metadata": {
    "id": "pC5rp8BhP2IA"
   },
   "source": [
    "Чтобы вставить недопустимые символы в строку, используйте escape-символ.\n",
    "\n",
    "Экранирующий символ — это обратная косая черта \\, за которой следует символ, который вы хотите вставить.\n",
    "\n",
    "Примером недопустимого символа является двойная кавычка внутри строки, заключенной в двойные кавычки:"
   ]
  },
  {
   "cell_type": "code",
   "execution_count": null,
   "metadata": {
    "colab": {
     "base_uri": "https://localhost:8080/",
     "height": 131
    },
    "executionInfo": {
     "elapsed": 313,
     "status": "error",
     "timestamp": 1668431437005,
     "user": {
      "displayName": "Наталья Пояркова",
      "userId": "05997905871093046879"
     },
     "user_tz": -180
    },
    "id": "44bGt-K_P7rQ",
    "outputId": "1b5ea369-f9ca-45b4-c9b2-94cdc43f0890"
   },
   "outputs": [
    {
     "ename": "SyntaxError",
     "evalue": "ignored",
     "output_type": "error",
     "traceback": [
      "\u001b[0;36m  File \u001b[0;32m\"<ipython-input-39-a7df771126a5>\"\u001b[0;36m, line \u001b[0;32m1\u001b[0m\n\u001b[0;31m    txt = \"Мы - так называемые \"викинги\" с севера.\"\u001b[0m\n\u001b[0m                                      ^\u001b[0m\n\u001b[0;31mSyntaxError\u001b[0m\u001b[0;31m:\u001b[0m invalid syntax\n"
     ]
    }
   ],
   "source": [
    "txt = \"Мы - так называемые \"викинги\" с севера.\""
   ]
  },
  {
   "cell_type": "markdown",
   "metadata": {
    "id": "PFozQUPMQFvp"
   },
   "source": [
    "Вы получите сообщение об ошибке, если используете двойные кавычки внутри строки, заключенной в двойные кавычки:"
   ]
  },
  {
   "cell_type": "markdown",
   "metadata": {
    "id": "Q9iqhwwUQJ9j"
   },
   "source": [
    "Чтобы решить эту проблему, используйте escape-символ \\\":"
   ]
  },
  {
   "cell_type": "markdown",
   "metadata": {
    "id": "T_FET3nBQN2p"
   },
   "source": [
    "Экранирующий символ позволяет вам использовать двойные кавычки, когда обычно это запрещено:"
   ]
  },
  {
   "cell_type": "code",
   "execution_count": null,
   "metadata": {
    "id": "53vpQWrjQKsd"
   },
   "outputs": [],
   "source": [
    "txt = \"Мы - так называемые \\\"викинги\\\" с севера.\""
   ]
  },
  {
   "cell_type": "code",
   "execution_count": null,
   "metadata": {
    "colab": {
     "base_uri": "https://localhost:8080/",
     "height": 35
    },
    "executionInfo": {
     "elapsed": 291,
     "status": "ok",
     "timestamp": 1668431441690,
     "user": {
      "displayName": "Наталья Пояркова",
      "userId": "05997905871093046879"
     },
     "user_tz": -180
    },
    "id": "pi_INvOmsfgz",
    "outputId": "10e77881-f98d-47b9-e56d-6d062b393985"
   },
   "outputs": [
    {
     "data": {
      "application/vnd.google.colaboratory.intrinsic+json": {
       "type": "string"
      },
      "text/plain": [
       "'Мы - так называемые \"викинги\" с севера.'"
      ]
     },
     "execution_count": 41,
     "metadata": {},
     "output_type": "execute_result"
    }
   ],
   "source": [
    "txt"
   ]
  },
  {
   "cell_type": "markdown",
   "metadata": {
    "id": "bzYX3pxgQbSS"
   },
   "source": [
    "# Escape символы\n",
    "Другие escape-символы, используемые в Python:\n",
    "\n"
   ]
  },
  {
   "cell_type": "markdown",
   "metadata": {
    "id": "2GbT2A8FQcNH"
   },
   "source": [
    "| символы | |значения |\n",
    "| --- | |----------- |\n",
    "|\\\\'|  |**Single Quote**|\t\n",
    "|\\\\|  |**Backslash**|\n",
    " |\\n|\t|**New Line**|\t\n",
    " |\\r| |**Carriage Return**|\t\n",
    " |\\t| |**Tab**|\t\n",
    " |\\b| |**Backspace**|\t\n",
    " |\\f| |**Form Feed**|\t\n",
    " |\\ooo| |**Octal value**|\t\n",
    " |\\xhh| |**Hex value**|"
   ]
  },
  {
   "cell_type": "markdown",
   "metadata": {
    "id": "aUj_-SEaQ7tg"
   },
   "source": [
    "# Строковые методы\n",
    "В Python есть набор встроенных методов, которые можно использовать со строками."
   ]
  },
  {
   "cell_type": "markdown",
   "metadata": {
    "id": "UPpqexkzQ9N8"
   },
   "source": [
    ">**Примечание**. Все строковые методы возвращают новые значения. Они не изменяют исходную строку."
   ]
  },
  {
   "cell_type": "markdown",
   "metadata": {
    "id": "bT49GnWrRAQ5"
   },
   "source": [
    "|Комманда| |Пояснение|\n",
    "|:---||:---|\n",
    "|capitalize()| |**Преобразует первый символ в верхний регистр**|\n",
    "|casefold()|\t|**Преобразует строку в нижний регистр**|\n",
    "|center()|\t|**Возвращает центрированную строку**|\n",
    "|count()| |**Возвращает количество раз, когда указанное значение встречается в строке**|\n",
    "|encode()|\t|**Возвращает закодированную версию строки**|\n",
    "|endswith()|\t|**Возвращает значение true, если строка заканчивается указанным значением**|\n",
    "|expandtabs()|\t|**Задает размер табуляции строки**|\n",
    "|find()|\t|**Выполняет поиск в строке указанного значения и возвращает позицию,в которой оно было найдено**| \n",
    "|format()|\t|**Форматирует указанные значения в строку**|\n",
    "|format_map()|\t|**Форматирует указанные значения в строку**|\n",
    "|index(|\t|**Выполняет поиск в строке указанного значения и возвращает позицию, в которой оно было найдено**|\n",
    "|isalnum()|\t|**Возвращает значение True, если все символы в строке являются буквенно-цифровыми**|\n",
    "|isalpha()|\t|**Возвращает значение True, если все символы в строке находятся в алфавите**|\n",
    "|isdecimal()|\t|**Возвращает значение True, если все символы в строке являются десятичными дробями**|\n",
    "|isdigit()|\t|**Возвращает значение True, если все символы в строке являются цифрами**|\n",
    "|isidentifier()|\t|**Возвращает значение True, если строка является идентификатором**|\n",
    "|islower()|\t|**Возвращает значение True, если все символы в строке написаны в нижнем регистре**|\n",
    "|isnumeric()|\t|**Возвращает значение True, если все символы в строке являются числовыми**|\n",
    "|isprintable()|\t|**Возвращает значение True, если все символы в строке доступны для печати**|\n",
    "|isspace()|\t|**Возвращает значение True, если все символы в строке являются пробелами**|\n",
    "|istitle()|\t|**Возвращает значение True, если строка соответствует правилам заголовка**|\n",
    "|isupper()|\t|**Возвращает значение True, если все символы в строке написаны в верхнем регистре**|\n",
    "|join()|\t|**Соединяет элементы итерируемого объекта с концом строки**|\n",
    "|ljust()|\t|**Возвращает выровненную по левому краю версию строки**|\n",
    "|lower()|\t|**Преобразует строку в нижний регистр**|\n",
    "|lstrip()|\t|**Возвращает левую обрезанную версию строки**|\n",
    "|maketrans()| |**Возвращает таблицу перевода, которая будет использоваться в переводах**|\n",
    "|partition()|\t|**Возвращает кортеж, в котором строка разделена на три части**|\n",
    "|replace()|\t|**Возвращает строку, в которой указанное значение заменяется указанным значением**|\n",
    "|rfind()|\t|**Выполняет поиск в строке указанного значения и возвращает последнюю позицию, в которой оно было найдено**|\n",
    "|rindex()|\t|**Выполняет поиск в строке указанного значения и возвращает последнюю позицию, в которой оно было найдено**|\n",
    "|rjust()|\t|**Возвращает выровненную по правому краю версию строки**|\n",
    "|rpartition()|\t|**Возвращает кортеж, в котором строка разделена на три части**|\n",
    "|rsplit()|\t|**Разбивает строку на указанный разделитель и возвращает список**|\n",
    "|rstrip()|\t|**Возвращает правильную обрезанную версию строки**|\n",
    "|split()|\t|**Разбивает строку на указанный разделитель и возвращает список**|\n",
    "|splitlines()|\t|**Разбивает строку на разрывы строк и возвращает список**|\n",
    "|startswith()|\t|**Возвращает значение true, если строка начинается с указанного значения**|\n",
    "|strip()|\t|**Возвращает урезанную версию строки**|\n",
    "|swapcase()|\t|**Меняет местами регистры, нижний регистр становится верхним регистром и наоборот**|\n",
    "|title()|\t|**Преобразует первый символ каждого слова в верхний регистр**|\n",
    "|translate()|\t|**Возвращает переведенную строку**|\n",
    "|upper()|\t|**Преобразует строку в верхний регистр**|\n",
    "|zfill()|\t|**Заполняет строку заданным количеством значений 0 в начале**|"
   ]
  },
  {
   "cell_type": "markdown",
   "metadata": {
    "id": "Z1xYBiZXU8dX"
   },
   "source": [
    "# Упражнения\n",
    "Вставьте вместо точек необходимый фрагмент кода"
   ]
  },
  {
   "cell_type": "markdown",
   "metadata": {
    "id": "d-GPKidyVwqL"
   },
   "source": [
    "## Упражнение 2.1:\n",
    "Получите строку без пробелов в начале и в конце."
   ]
  },
  {
   "cell_type": "code",
   "execution_count": null,
   "metadata": {
    "id": "vaPZtdSHVyNE"
   },
   "outputs": [],
   "source": [
    "txt = \"   Привет Мир   \"\n",
    "x = txt.strip()\n",
    "print(x)\n"
   ]
  },
  {
   "cell_type": "markdown",
   "metadata": {
    "id": "FPokZCuqV07M"
   },
   "source": [
    "## Упражнение 2.2:\n",
    "Преобразуйте значение txt в верхний регистр."
   ]
  },
  {
   "cell_type": "code",
   "execution_count": null,
   "metadata": {
    "id": "5TEVjk8BV4tt"
   },
   "outputs": [],
   "source": [
    "txt = \"Привет Мир\"\n",
    "txt = txt.upper()\n",
    "print(txt)\n"
   ]
  },
  {
   "cell_type": "markdown",
   "metadata": {
    "id": "M0kuJNRPWCZQ"
   },
   "source": [
    "## Упражнение 2.3:\n",
    "Преобразуйте значение txt в нижний регистр."
   ]
  },
  {
   "cell_type": "code",
   "execution_count": null,
   "metadata": {
    "id": "fPywQVeqWEIj"
   },
   "outputs": [],
   "source": [
    "txt = \"Привет Мир\"\n",
    "txt = txt.lower()\n",
    "print(txt)\n"
   ]
  },
  {
   "cell_type": "markdown",
   "metadata": {
    "id": "dEfrnOBCWIys"
   },
   "source": [
    "## Упражнение 2.4\n",
    "Замените символ e на символ o"
   ]
  },
  {
   "cell_type": "code",
   "execution_count": null,
   "metadata": {
    "id": "ekCikJdWWPFf"
   },
   "outputs": [],
   "source": [
    "txt = \"Hello World\"\n",
    "txt = txt.replace('e', 'o')\n",
    "print(txt)\n"
   ]
  },
  {
   "cell_type": "markdown",
   "metadata": {
    "id": "oKIPtvAtWYU7"
   },
   "source": [
    "## Упражнение 2.5:\n",
    "Вставьте правильный синтаксис, чтобы добавить заполнитель для параметра возраста."
   ]
  },
  {
   "cell_type": "code",
   "execution_count": null,
   "metadata": {
    "id": "t7BicvpHWe81"
   },
   "outputs": [],
   "source": [
    "age = 36\n",
    "txt = \"Меня зовут Джон, и мне {} лет\".format(age)\n",
    "print(txt)\n"
   ]
  },
  {
   "cell_type": "markdown",
   "metadata": {
    "id": "-3Ovd-mkRLDu"
   },
   "source": [
    "###Задача 1:\n",
    "Попросите пользователя ввести имя и воззраст. Затем, используя метод формат, выведите сообщение \"Рады видеть Вас, ИМЯ, очень хорошо, что Вам N лет\". У введенного имени удалите пробелы и преобразуйте все символы к верхнему регистру "
   ]
  },
  {
   "cell_type": "code",
   "execution_count": null,
   "metadata": {},
   "outputs": [],
   "source": [
    "name = input(\"Введите ваше имя: \")\n",
    "age = input(\"Введите ваш возраст: \")\n",
    "\n",
    "formatted_name = name.replace(\" \", \"\").upper()\n",
    "\n",
    "message = \"Рады видеть Вас, {}, очень хорошо, что Вам {} лет\".format(formatted_name, age)\n",
    "print(message)\n"
   ]
  },
  {
   "cell_type": "markdown",
   "metadata": {
    "id": "wicNfnQh1V6g"
   },
   "source": [
    "###Задача 2\n",
    "Сформировать из заданной строки две строки. В первой записать только четные буквы исходной, во вторую - только нечетные"
   ]
  },
  {
   "cell_type": "markdown",
   "metadata": {
    "id": "87bW5rT8yqQC"
   },
   "source": [
    "Подсказки:"
   ]
  },
  {
   "cell_type": "code",
   "execution_count": null,
   "metadata": {
    "colab": {
     "base_uri": "https://localhost:8080/"
    },
    "executionInfo": {
     "elapsed": 294,
     "status": "ok",
     "timestamp": 1668431488714,
     "user": {
      "displayName": "Наталья Пояркова",
      "userId": "05997905871093046879"
     },
     "user_tz": -180
    },
    "id": "noR562YIREFn",
    "outputId": "4ccc70ef-4457-4729-e761-5e482bbec270"
   },
   "outputs": [
    {
     "data": {
      "text/plain": [
       "['Д',\n",
       " 'о',\n",
       " 'м',\n",
       " ',',\n",
       " ' ',\n",
       " 'р',\n",
       " 'о',\n",
       " 'д',\n",
       " 'н',\n",
       " 'о',\n",
       " 'й',\n",
       " ' ',\n",
       " 'д',\n",
       " 'о',\n",
       " 'м',\n",
       " '!']"
      ]
     },
     "execution_count": 43,
     "metadata": {},
     "output_type": "execute_result"
    }
   ],
   "source": [
    "home = \"Дом, родной дом!\"\n",
    "\n",
    "home_list = list(home)\n",
    "\n",
    "even_chars = \"\"\n",
    "odd_chars = \"\"\n",
    "\n",
    "for index, char in enumerate(home_list):\n",
    "    if index % 2 == 0: \n",
    "        even_chars += char\n",
    "    else:\n",
    "        odd_chars += char\n",
    "\n",
    "print(\"Четные символы:\", even_chars)\n",
    "print(\"Нечетные символы:\", odd_chars)\n"
   ]
  },
  {
   "cell_type": "markdown",
   "metadata": {
    "id": "QOpKx-G92TFE"
   },
   "source": [
    "Используя slicing переписать строку с конца"
   ]
  },
  {
   "cell_type": "code",
   "execution_count": null,
   "metadata": {
    "colab": {
     "base_uri": "https://localhost:8080/",
     "height": 35
    },
    "executionInfo": {
     "elapsed": 273,
     "status": "ok",
     "timestamp": 1668431504823,
     "user": {
      "displayName": "Наталья Пояркова",
      "userId": "05997905871093046879"
     },
     "user_tz": -180
    },
    "id": "tI5m4wHT08qK",
    "outputId": "5627f157-2fff-49ef-ada8-3e6dbd8bade3"
   },
   "outputs": [
    {
     "data": {
      "application/vnd.google.colaboratory.intrinsic+json": {
       "type": "string"
      },
      "text/plain": [
       "'Дм онйдм'"
      ]
     },
     "execution_count": 44,
     "metadata": {},
     "output_type": "execute_result"
    }
   ],
   "source": [
    "home = \"Дом, родной дом!\"\n",
    "\n",
    "home_list = list(home)\n",
    "\n",
    "even_chars = \"\"\n",
    "odd_chars = \"\"\n",
    "\n",
    "for index, char in enumerate(home_list):\n",
    "    if index % 2 == 0:\n",
    "        even_chars += char\n",
    "    else:\n",
    "        odd_chars += char\n",
    "\n",
    "print(\"Четные символы:\", even_chars)\n",
    "print(\"Нечетные символы:\", odd_chars)\n"
   ]
  },
  {
   "cell_type": "markdown",
   "metadata": {
    "id": "nFH4WbIG22SY"
   },
   "source": [
    "###Задача\n",
    "Выяснить, является ли введенная пользователем строка палиндромом (слова вводятся без пробела). "
   ]
  },
  {
   "cell_type": "code",
   "execution_count": null,
   "metadata": {
    "id": "1He1QKu3R7vG"
   },
   "outputs": [],
   "source": [
    "user_input = input(\"Введите строку: \")\n",
    "\n",
    "cleaned_input = user_input.replace(\" \", \"\").lower()\n",
    "\n",
    "is_palindrome = cleaned_input == cleaned_input[::-1]\n",
    "\n",
    "if is_palindrome:\n",
    "    print(\"Строка является палиндромом.\")\n",
    "else:\n",
    "    print(\"Строка не является палиндромом.\")\n"
   ]
  },
  {
   "cell_type": "markdown",
   "metadata": {
    "id": "yr6Cf9wyCv3a"
   },
   "source": [
    "###Упражнение 1. Не выполняя код, определите, что будет результатом каждого и з выражений:"
   ]
  },
  {
   "cell_type": "markdown",
   "metadata": {
    "id": "djbANGHDCq7C"
   },
   "source": [
    "![image.png](data:image/png;base64,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)"
   ]
  },
  {
   "cell_type": "code",
   "execution_count": null,
   "metadata": {},
   "outputs": [],
   "source": [
    "'aliono'\n",
    "[115, 202, 192, 334]\n",
    "2\n",
    "[3, 2, 1]\n",
    "<class 'list'>\n",
    "'This---is---important'\n",
    "707\n",
    "'tsn tell'"
   ]
  },
  {
   "cell_type": "markdown",
   "metadata": {
    "id": "MRUZET95OJFR"
   },
   "source": [
    "Создайте список, содержащий все знаки препинания и пробел. Используя этот список и метод replace удалите в заданной строке поочередно все знаки препинания и пробелы"
   ]
  },
  {
   "cell_type": "code",
   "execution_count": null,
   "metadata": {
    "colab": {
     "base_uri": "https://localhost:8080/",
     "height": 35
    },
    "executionInfo": {
     "elapsed": 393,
     "status": "ok",
     "timestamp": 1668434379791,
     "user": {
      "displayName": "Наталья Пояркова",
      "userId": "05997905871093046879"
     },
     "user_tz": -180
    },
    "id": "J341okBQbxNr",
    "outputId": "693dc19c-1457-443a-a75f-2c3c87e5786c"
   },
   "outputs": [
    {
     "data": {
      "application/vnd.google.colaboratory.intrinsic+json": {
       "type": "string"
      },
      "text/plain": [
       "'И лежу. - ужели!'"
      ]
     },
     "execution_count": 54,
     "metadata": {},
     "output_type": "execute_result"
    }
   ],
   "source": [
    "s = \"И, лежу. - ужели!\"\n",
    "s= s.replace(',','')\n",
    "s\n"
   ]
  },
  {
   "cell_type": "code",
   "execution_count": null,
   "metadata": {
    "colab": {
     "background_save": true,
     "base_uri": "https://localhost:8080/"
    },
    "executionInfo": {
     "elapsed": 311,
     "status": "ok",
     "timestamp": 1668434564967,
     "user": {
      "displayName": "Наталья Пояркова",
      "userId": "05997905871093046879"
     },
     "user_tz": -180
    },
    "id": "jz3Nv9RuCqG6",
    "outputId": "eb60d458-8488-4f31-bcf7-df8d1c7dc224"
   },
   "outputs": [
    {
     "name": "stdout",
     "output_type": "stream",
     "text": [
      "ИлежуУжели\n"
     ]
    }
   ],
   "source": [
    "s = \"И, лежу. - ужели!\"\n",
    "\n",
    "punctuation_and_spaces = [',', '.', '-', '!', ' ', '?', ';', ':', '(', ')', '[', ']', '{', '}', \"'\", '\"']\n",
    "\n",
    "for char in punctuation_and_spaces:\n",
    "    s = s.replace(char, '')\n",
    "\n",
    "print(s)\n"
   ]
  },
  {
   "cell_type": "markdown",
   "metadata": {
    "id": "JkX0XgGoO77p"
   },
   "source": [
    "###Упражнение 3. Доработайте скрипт, определяющий является ли введенная строка палиндромом (из предыдущего занятия) в предположении, что пользователь может вводить фразу с пробелами и знаками препинания"
   ]
  },
  {
   "cell_type": "markdown",
   "metadata": {
    "id": "QfgYHrFtv27k"
   },
   "source": [
    "#F-строки \n",
    "Самый современный способ форматирования — это f-строки. Их использование улучшает читаемость кода и работают быстрее всех остальных способов форматирования. Для использования всех возможностей f-строк, достаточно поставить перед строкой символ «f». Оцените, насколько использование f-строк проще и читаемее, чем все остальные"
   ]
  },
  {
   "cell_type": "code",
   "execution_count": null,
   "metadata": {},
   "outputs": [],
   "source": [
    "import string\n",
    "\n",
    "def is_palindrome(phrase):\n",
    "    translator = str.maketrans('', '', string.punctuation + ' ')\n",
    "    cleaned_phrase = phrase.translate(translator).lower()\n",
    "    \n",
    "    return cleaned_phrase == cleaned_phrase[::-1]\n",
    "\n",
    "user_input = input(\"Введите фразу: \")\n",
    "if is_palindrome(user_input):\n",
    "    print(f'\"{user_input}\" является палиндромом.')\n",
    "else:\n",
    "    print(f'\"{user_input}\" не является палиндромом.')\n"
   ]
  },
  {
   "cell_type": "code",
   "execution_count": null,
   "metadata": {
    "colab": {
     "base_uri": "https://localhost:8080/"
    },
    "executionInfo": {
     "elapsed": 329,
     "status": "ok",
     "timestamp": 1668431749180,
     "user": {
      "displayName": "Наталья Пояркова",
      "userId": "05997905871093046879"
     },
     "user_tz": -180
    },
    "id": "wZQNaDXY3h3M",
    "outputId": "ade26073-98ba-4b27-c145-e9aecb09ac3f"
   },
   "outputs": [
    {
     "name": "stdout",
     "output_type": "stream",
     "text": [
      "Вы получили оценку: 5\n"
     ]
    }
   ],
   "source": [
    "i = 5\n",
    "print(\"Вы получили оценку: \" + str(i))\n",
    "print(f\"Вы получили оценку: {i}\")\n"
   ]
  },
  {
   "cell_type": "code",
   "execution_count": 62,
   "metadata": {
    "colab": {
     "base_uri": "https://localhost:8080/",
     "height": 35
    },
    "executionInfo": {
     "elapsed": 336,
     "status": "ok",
     "timestamp": 1668435945329,
     "user": {
      "displayName": "Наталья Пояркова",
      "userId": "05997905871093046879"
     },
     "user_tz": -180
    },
    "id": "I7EUbxq44eBt",
    "outputId": "0a83cbc7-2197-49e2-ca2d-d903050b6649"
   },
   "outputs": [
    {
     "data": {
      "application/vnd.google.colaboratory.intrinsic+json": {
       "type": "string"
      },
      "text/plain": [
       "'У нас есть цифры Номер, а также строка 67 '"
      ]
     },
     "execution_count": 62,
     "metadata": {},
     "output_type": "execute_result"
    }
   ],
   "source": [
    "digit = 67\n",
    "string = \"Номер\"\n",
    "\n",
    "result_1 = \"У нас есть цифры {0}, а также строка {1}\".format(digit, string)\n",
    "print(result_1)\n"
   ]
  },
  {
   "cell_type": "code",
   "execution_count": 63,
   "metadata": {
    "colab": {
     "base_uri": "https://localhost:8080/"
    },
    "executionInfo": {
     "elapsed": 255,
     "status": "ok",
     "timestamp": 1668436080619,
     "user": {
      "displayName": "Наталья Пояркова",
      "userId": "05997905871093046879"
     },
     "user_tz": -180
    },
    "id": "xr7SkBHMwGmk",
    "outputId": "1bcad114-a7db-495a-9f97-d049e859f148"
   },
   "outputs": [
    {
     "name": "stdout",
     "output_type": "stream",
     "text": [
      "У нас есть цифры 67, а также строка Номер, но главное это цифра 67\n"
     ]
    }
   ],
   "source": [
    "# f-строки\n",
    "digit = 67\n",
    "string = \"Номер\"\n",
    "result_3 = f\"У нас есть цифры {digit}, а также строка {string}, но главное это цифра {digit}\"\n",
    "\n",
    "print(result_3)"
   ]
  },
  {
   "cell_type": "markdown",
   "metadata": {
    "id": "_Vds8gBRwLEs"
   },
   "source": [
    "Мы сразу можем написать имена переменных внутри строки, не заботясь об их передачи в строку через метод format или %. \n",
    "\n",
    "Кроме переменных, f-строки могут работать и с выражениями. "
   ]
  },
  {
   "cell_type": "code",
   "execution_count": 64,
   "metadata": {
    "colab": {
     "base_uri": "https://localhost:8080/"
    },
    "executionInfo": {
     "elapsed": 251,
     "status": "ok",
     "timestamp": 1668436155299,
     "user": {
      "displayName": "Наталья Пояркова",
      "userId": "05997905871093046879"
     },
     "user_tz": -180
    },
    "id": "RBcH66XIwZCU",
    "outputId": "cebc19b3-735a-4212-9145-edf5c9391a5c"
   },
   "outputs": [
    {
     "name": "stdout",
     "output_type": "stream",
     "text": [
      "Выполним пример: 10 + 22 = 32, это сложение\n"
     ]
    }
   ],
   "source": [
    "a = 10\n",
    "b = 22\n",
    "result = f'Выполним пример: {a} + {b} = {a + b}, это сложение'\n",
    "print(result)\n"
   ]
  },
  {
   "cell_type": "markdown",
   "metadata": {
    "id": "uW9LJmd-wt0s"
   },
   "source": [
    "Также в f-строках можно вызывать методы и функции"
   ]
  },
  {
   "cell_type": "code",
   "execution_count": 65,
   "metadata": {
    "colab": {
     "base_uri": "https://localhost:8080/"
    },
    "executionInfo": {
     "elapsed": 286,
     "status": "ok",
     "timestamp": 1668436168182,
     "user": {
      "displayName": "Наталья Пояркова",
      "userId": "05997905871093046879"
     },
     "user_tz": -180
    },
    "id": "miWMlBoAwwak",
    "outputId": "e0e2ee7a-9463-4b9c-e3be-6a97a7240875"
   },
   "outputs": [
    {
     "name": "stdout",
     "output_type": "stream",
     "text": [
      "ВАше имя: АЛЕСЬ, возраст: 38\n"
     ]
    }
   ],
   "source": [
    "name = \"Алесь\"\n",
    "age = 38.5\n",
    "result = f'ВАше имя: {name.upper()}, возраст: {round(age)}'\n",
    "print(result)"
   ]
  },
  {
   "cell_type": "markdown",
   "metadata": {
    "id": "7LSDLbEzwxD9"
   },
   "source": [
    "Срезы тоже будут работать"
   ]
  },
  {
   "cell_type": "code",
   "execution_count": 67,
   "metadata": {
    "colab": {
     "base_uri": "https://localhost:8080/"
    },
    "executionInfo": {
     "elapsed": 239,
     "status": "ok",
     "timestamp": 1668436309243,
     "user": {
      "displayName": "Наталья Пояркова",
      "userId": "05997905871093046879"
     },
     "user_tz": -180
    },
    "id": "HCmd-t2lw1zl",
    "outputId": "f294ceda-96d6-42f9-cb1c-6d9ede1c6535"
   },
   "outputs": [
    {
     "name": "stdout",
     "output_type": "stream",
     "text": [
      "Это результат акортс яатунревереП -- перевернутая строка\n"
     ]
    }
   ],
   "source": [
    "string = \"Перевернутая строка\"\n",
    "result = f'Это результат {string[::-1]} -- перевернутая строка'\n",
    "print(result)"
   ]
  },
  {
   "cell_type": "markdown",
   "metadata": {
    "id": "tlzIBMprw08k"
   },
   "source": [
    "Если нужно, чтобы в строке были символы фигурных скобок, достаточно просто поставить две открывающих или две закрывающих скобки подряд."
   ]
  },
  {
   "cell_type": "code",
   "execution_count": 68,
   "metadata": {
    "colab": {
     "base_uri": "https://localhost:8080/"
    },
    "executionInfo": {
     "elapsed": 276,
     "status": "ok",
     "timestamp": 1668436334807,
     "user": {
      "displayName": "Наталья Пояркова",
      "userId": "05997905871093046879"
     },
     "user_tz": -180
    },
    "id": "bWtmeliWw0Sd",
    "outputId": "466cdc21-b820-4d14-b082-2e91b57fc5b2"
   },
   "outputs": [
    {
     "name": "stdout",
     "output_type": "stream",
     "text": [
      "{ Текст в скобках }\n"
     ]
    }
   ],
   "source": [
    "result = f'{{ Текст в скобках }}'\n",
    "print(result)"
   ]
  },
  {
   "cell_type": "markdown",
   "metadata": {
    "id": "vx8eAhCISLS1"
   },
   "source": [
    "###Задaча\n",
    "Запросите у пользователя (студента) имя и номер группы.Используя f-строки, выведите сообщение о том, в какой группе он обучается, и как его зовут\n"
   ]
  },
  {
   "cell_type": "code",
   "execution_count": 69,
   "metadata": {
    "colab": {
     "base_uri": "https://localhost:8080/"
    },
    "executionInfo": {
     "elapsed": 12409,
     "status": "ok",
     "timestamp": 1668436686525,
     "user": {
      "displayName": "Наталья Пояркова",
      "userId": "05997905871093046879"
     },
     "user_tz": -180
    },
    "id": "pF0sNn1ySp4t",
    "outputId": "b80fe76e-ec45-4637-a649-b4308f9d3ea6"
   },
   "outputs": [
    {
     "name": "stdout",
     "output_type": "stream",
     "text": [
      "Введите имя: Вася\n",
      "Введите группу:  ИСИП43\n",
      "Вы обучаетесь в группе ИСИП43, Ваше имя Вася\n"
     ]
    }
   ],
   "source": [
    "student_name = input(\"Введите имя: \")\n",
    "group = input(\"Введите группу:  \")\n",
    "\n",
    "message = f'Вы обучаетесь в группе {group}, Ваше имя {student_name}'\n",
    "\n",
    "print(message)\n"
   ]
  },
  {
   "cell_type": "code",
   "execution_count": 70,
   "metadata": {
    "colab": {
     "base_uri": "https://localhost:8080/"
    },
    "executionInfo": {
     "elapsed": 13631,
     "status": "ok",
     "timestamp": 1668436828746,
     "user": {
      "displayName": "Наталья Пояркова",
      "userId": "05997905871093046879"
     },
     "user_tz": -180
    },
    "id": "djo8vus3k-c9",
    "outputId": "43f4afc9-bb04-44df-81be-23b345cb1b24"
   },
   "outputs": [
    {
     "name": "stdout",
     "output_type": "stream",
     "text": [
      "Введите группу:  BVB43\n",
      "Введите имя: Jon\n",
      "Вы обучаетесь в группе BVB43, Ваше имя Jon\n"
     ]
    }
   ],
   "source": [
    "print(f'Вы обучаетесь в группе {input(\"Введите группу:  \")}, Ваше имя {input(\"Введите имя: \")}')"
   ]
  },
  {
   "cell_type": "markdown",
   "metadata": {
    "id": "fyZ-MUsBSonF"
   },
   "source": [
    "###Задача\n",
    "Дана строка, например: f4j6h6j7k3h6k7h0h1. Используя f-строки, выведите сообщение \"Четные символы строки: fjhjkhkhh, нечетные символы строки: 466736701\"\n"
   ]
  },
  {
   "cell_type": "code",
   "execution_count": 72,
   "metadata": {
    "colab": {
     "base_uri": "https://localhost:8080/"
    },
    "executionInfo": {
     "elapsed": 309,
     "status": "ok",
     "timestamp": 1668437260573,
     "user": {
      "displayName": "Наталья Пояркова",
      "userId": "05997905871093046879"
     },
     "user_tz": -180
    },
    "id": "JM2vUcwHSiJ8",
    "outputId": "0523aae4-93e3-4f67-9fb4-3e0c806c2580"
   },
   "outputs": [
    {
     "name": "stdout",
     "output_type": "stream",
     "text": [
      "Четные символы строки: fjhjkhkhh, нечетные символы строки: 466736701\n"
     ]
    }
   ],
   "source": [
    "data= \"f4j6h6j7k3h6k7h0h1\"\n",
    "message=f\"Четные символы строки: {data[::2]}, нечетные символы строки: {data[1::2]}\"\n",
    "print(message)\n"
   ]
  },
  {
   "cell_type": "code",
   "execution_count": 75,
   "metadata": {
    "colab": {
     "base_uri": "https://localhost:8080/"
    },
    "executionInfo": {
     "elapsed": 286,
     "status": "ok",
     "timestamp": 1668437544975,
     "user": {
      "displayName": "Наталья Пояркова",
      "userId": "05997905871093046879"
     },
     "user_tz": -180
    },
    "id": "57ibVMG5nqA4",
    "outputId": "922273fa-4243-4cfa-a5b7-e7fa5471bdd3"
   },
   "outputs": [
    {
     "name": "stdout",
     "output_type": "stream",
     "text": [
      "Четные символы строки: fjhjkhkhhнечетные символы строки:466736701\n"
     ]
    }
   ],
   "source": [
    "dat= \"f4j6h6j7k3h6k7h0h1\"\n",
    "message = f\"Четные символы строки: {dat[::2]}нечетные символы строки:{dat[1::2]}\"\n",
    "print(message)"
   ]
  }
 ],
 "metadata": {
  "colab": {
   "collapsed_sections": [],
   "provenance": [
    {
     "file_id": "1zASa5tPOwA6HRBkU6OeXulEs63SzjlFo",
     "timestamp": 1664475708481
    }
   ]
  },
  "kernelspec": {
   "display_name": "Python 3",
   "name": "python3"
  },
  "language_info": {
   "name": "python"
  }
 },
 "nbformat": 4,
 "nbformat_minor": 0
}
